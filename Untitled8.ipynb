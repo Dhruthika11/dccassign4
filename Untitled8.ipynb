{
  "nbformat": 4,
  "nbformat_minor": 0,
  "metadata": {
    "colab": {
      "provenance": [],
      "authorship_tag": "ABX9TyPknpxJgFKiBg1JIHea3e/u",
      "include_colab_link": true
    },
    "kernelspec": {
      "name": "python3",
      "display_name": "Python 3"
    },
    "language_info": {
      "name": "python"
    }
  },
  "cells": [
    {
      "cell_type": "markdown",
      "metadata": {
        "id": "view-in-github",
        "colab_type": "text"
      },
      "source": [
        "<a href=\"https://colab.research.google.com/github/Dhruthika11/dccassign4/blob/main/Untitled8.ipynb\" target=\"_parent\"><img src=\"https://colab.research.google.com/assets/colab-badge.svg\" alt=\"Open In Colab\"/></a>"
      ]
    },
    {
      "cell_type": "code",
      "execution_count": null,
      "metadata": {
        "colab": {
          "base_uri": "https://localhost:8080/"
        },
        "id": "OWfcUDzTUc5a",
        "outputId": "0c92c752-0e38-4462-d2cb-e275b56ad3fa"
      },
      "outputs": [
        {
          "output_type": "stream",
          "name": "stdout",
          "text": [
            "Collecting pymupdf\n",
            "  Downloading PyMuPDF-1.24.2-cp310-none-manylinux2014_x86_64.whl (3.5 MB)\n",
            "\u001b[2K     \u001b[90m━━━━━━━━━━━━━━━━━━━━━━━━━━━━━━━━━━━━━━━━\u001b[0m \u001b[32m3.5/3.5 MB\u001b[0m \u001b[31m14.9 MB/s\u001b[0m eta \u001b[36m0:00:00\u001b[0m\n",
            "\u001b[?25hCollecting PyMuPDFb==1.24.1 (from pymupdf)\n",
            "  Downloading PyMuPDFb-1.24.1-py3-none-manylinux2014_x86_64.manylinux_2_17_x86_64.whl (30.8 MB)\n",
            "\u001b[2K     \u001b[90m━━━━━━━━━━━━━━━━━━━━━━━━━━━━━━━━━━━━━━━━\u001b[0m \u001b[32m30.8/30.8 MB\u001b[0m \u001b[31m33.7 MB/s\u001b[0m eta \u001b[36m0:00:00\u001b[0m\n",
            "\u001b[?25hInstalling collected packages: PyMuPDFb, pymupdf\n",
            "Successfully installed PyMuPDFb-1.24.1 pymupdf-1.24.2\n"
          ]
        }
      ],
      "source": [
        "pip install pymupdf"
      ]
    },
    {
      "cell_type": "code",
      "source": [
        "import fitz\n",
        "import pandas as pd\n"
      ],
      "metadata": {
        "id": "Js3bcgu4U_IK"
      },
      "execution_count": null,
      "outputs": []
    },
    {
      "cell_type": "code",
      "source": [
        "doc_pdf1 = fitz.open('/content/pdf1.pdf')\n",
        "table1_df = pd.DataFrame()\n",
        "\n",
        "for page in range(len(doc_pdf1)):\n",
        "    page = doc_pdf1.load_page(page)\n",
        "    tables = page.find_tables()\n",
        "    if tables:\n",
        "        for rows in tables:\n",
        "            table_data = rows.to_pandas()\n",
        "            table1_df = pd.concat([table1_df, table_data])\n",
        "\n",
        "csv_table1 = '/content/output_table1.csv'\n",
        "table1_df.to_csv(csv_table1, index=False)"
      ],
      "metadata": {
        "id": "spRZPgtgU1Z2"
      },
      "execution_count": null,
      "outputs": []
    },
    {
      "cell_type": "code",
      "source": [],
      "metadata": {
        "id": "hykyWdaJLDzj"
      },
      "execution_count": null,
      "outputs": []
    },
    {
      "cell_type": "code",
      "source": [
        "doc_pdf2 = fitz.open('/content/pdf2.pdf')\n",
        "table2_df = pd.DataFrame()\n",
        "\n",
        "for page in range(len(doc_pdf2)):\n",
        "    page = doc_pdf2.load_page(page)\n",
        "    tables = page.find_tables()\n",
        "    if tables:\n",
        "        for rows in tables:\n",
        "            table_data = rows.to_pandas()\n",
        "            table2_df = pd.concat([table2_df, table_data])\n",
        "\n",
        "csv_table2 = '/content/output_table2.csv'\n",
        "table2_df.to_csv(csv_table2, index=False)"
      ],
      "metadata": {
        "id": "JGen6ZkuYlS_"
      },
      "execution_count": null,
      "outputs": []
    }
  ]
}